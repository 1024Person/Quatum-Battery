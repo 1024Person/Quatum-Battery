{
 "cells": [
  {
   "cell_type": "code",
   "execution_count": 2,
   "id": "96a0d456-43d6-4a5b-8010-5a3a1a0f2ea6",
   "metadata": {},
   "outputs": [],
   "source": [
    "from qutip import *\n",
    "import numpy as np"
   ]
  },
  {
   "cell_type": "code",
   "execution_count": 4,
   "id": "23705783-04f6-41cc-b14e-061c86e5fd20",
   "metadata": {},
   "outputs": [],
   "source": [
    "a = tensor(qeye(2),qeye(2),destroy(2))"
   ]
  },
  {
   "cell_type": "code",
   "execution_count": 6,
   "id": "260db844-481f-43d8-9853-4106c12fcb82",
   "metadata": {},
   "outputs": [
    {
     "data": {
      "text/plain": [
       "(Quantum object: dims = [[2, 2, 2], [2, 2, 2]], shape = (8, 8), type = oper, isherm = False\n",
       " Qobj data =\n",
       " [[0. 1. 0. 0. 0. 0. 0. 0.]\n",
       "  [0. 0. 0. 0. 0. 0. 0. 0.]\n",
       "  [0. 0. 0. 1. 0. 0. 0. 0.]\n",
       "  [0. 0. 0. 0. 0. 0. 0. 0.]\n",
       "  [0. 0. 0. 0. 0. 1. 0. 0.]\n",
       "  [0. 0. 0. 0. 0. 0. 0. 0.]\n",
       "  [0. 0. 0. 0. 0. 0. 0. 1.]\n",
       "  [0. 0. 0. 0. 0. 0. 0. 0.]],\n",
       " Quantum object: dims = [[2, 2, 2], [2, 2, 2]], shape = (8, 8), type = oper, isherm = False\n",
       " Qobj data =\n",
       " [[0. 1. 0. 0. 0. 0. 0. 0.]\n",
       "  [0. 0. 0. 0. 0. 0. 0. 0.]\n",
       "  [0. 0. 0. 1. 0. 0. 0. 0.]\n",
       "  [0. 0. 0. 0. 0. 0. 0. 0.]\n",
       "  [0. 0. 0. 0. 0. 1. 0. 0.]\n",
       "  [0. 0. 0. 0. 0. 0. 0. 0.]\n",
       "  [0. 0. 0. 0. 0. 0. 0. 1.]\n",
       "  [0. 0. 0. 0. 0. 0. 0. 0.]])"
      ]
     },
     "execution_count": 6,
     "metadata": {},
     "output_type": "execute_result"
    }
   ],
   "source": [
    "mat_list = tensor([qeye(2),qeye(2)])\n",
    "b = tensor(mat_list,destroy(2))\n",
    "a,b"
   ]
  }
 ],
 "metadata": {
  "kernelspec": {
   "display_name": "Python 3 (ipykernel)",
   "language": "python",
   "name": "python3"
  },
  "language_info": {
   "codemirror_mode": {
    "name": "ipython",
    "version": 3
   },
   "file_extension": ".py",
   "mimetype": "text/x-python",
   "name": "python",
   "nbconvert_exporter": "python",
   "pygments_lexer": "ipython3",
   "version": "3.10.11"
  }
 },
 "nbformat": 4,
 "nbformat_minor": 5
}
