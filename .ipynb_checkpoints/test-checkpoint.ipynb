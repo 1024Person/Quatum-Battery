{
 "cells": [
  {
   "cell_type": "code",
   "execution_count": 8,
   "id": "96a0d456-43d6-4a5b-8010-5a3a1a0f2ea6",
   "metadata": {},
   "outputs": [],
   "source": [
    "from qutip import *\n",
    "import numpy as np"
   ]
  },
  {
   "cell_type": "code",
   "execution_count": 2,
   "id": "55a84772-a525-408b-8e2a-dfddc6a1109f",
   "metadata": {},
   "outputs": [],
   "source": [
    "vac = basis(5,0)"
   ]
  },
  {
   "cell_type": "code",
   "execution_count": 3,
   "id": "8bcef7bd-f272-4820-98a9-16a75645aff5",
   "metadata": {},
   "outputs": [],
   "source": [
    "a = destroy(5)"
   ]
  },
  {
   "cell_type": "code",
   "execution_count": 4,
   "id": "91abfcb9-1489-4132-8160-c35d0a898b11",
   "metadata": {},
   "outputs": [
    {
     "data": {
      "text/latex": [
       "Quantum object: dims = [[5], [5]], shape = (5, 5), type = oper, isherm = False $ \\\\ \\left(\\begin{matrix}0.0 & 1.0 & 0.0 & 0.0 & 0.0\\\\0.0 & 0.0 & 1.414 & 0.0 & 0.0\\\\0.0 & 0.0 & 0.0 & 1.732 & 0.0\\\\0.0 & 0.0 & 0.0 & 0.0 & 2.0\\\\0.0 & 0.0 & 0.0 & 0.0 & 0.0\\\\\\end{matrix}\\right)$"
      ],
      "text/plain": [
       "Quantum object: dims = [[5], [5]], shape = (5, 5), type = oper, isherm = False\n",
       "Qobj data =\n",
       "[[0.         1.         0.         0.         0.        ]\n",
       " [0.         0.         1.41421356 0.         0.        ]\n",
       " [0.         0.         0.         1.73205081 0.        ]\n",
       " [0.         0.         0.         0.         2.        ]\n",
       " [0.         0.         0.         0.         0.        ]]"
      ]
     },
     "execution_count": 4,
     "metadata": {},
     "output_type": "execute_result"
    }
   ],
   "source": [
    "a"
   ]
  },
  {
   "cell_type": "code",
   "execution_count": 6,
   "id": "5bcb8c35-38bf-428c-bba5-60a39ce17c5a",
   "metadata": {},
   "outputs": [
    {
     "data": {
      "text/latex": [
       "Quantum object: dims = [[5], [1]], shape = (5, 1), type = ket $ \\\\ \\left(\\begin{matrix}1.0\\\\0.0\\\\0.0\\\\0.0\\\\0.0\\\\\\end{matrix}\\right)$"
      ],
      "text/plain": [
       "Quantum object: dims = [[5], [1]], shape = (5, 1), type = ket\n",
       "Qobj data =\n",
       "[[1.]\n",
       " [0.]\n",
       " [0.]\n",
       " [0.]\n",
       " [0.]]"
      ]
     },
     "execution_count": 6,
     "metadata": {},
     "output_type": "execute_result"
    }
   ],
   "source": [
    "vac"
   ]
  },
  {
   "cell_type": "code",
   "execution_count": 7,
   "id": "b376a17d-a669-4564-839a-8c7c03a7fa67",
   "metadata": {},
   "outputs": [
    {
     "data": {
      "text/latex": [
       "Quantum object: dims = [[5], [1]], shape = (5, 1), type = ket $ \\\\ \\left(\\begin{matrix}0.0\\\\0.0\\\\0.0\\\\0.0\\\\0.0\\\\\\end{matrix}\\right)$"
      ],
      "text/plain": [
       "Quantum object: dims = [[5], [1]], shape = (5, 1), type = ket\n",
       "Qobj data =\n",
       "[[0.]\n",
       " [0.]\n",
       " [0.]\n",
       " [0.]\n",
       " [0.]]"
      ]
     },
     "execution_count": 7,
     "metadata": {},
     "output_type": "execute_result"
    }
   ],
   "source": [
    "a*vac"
   ]
  },
  {
   "cell_type": "markdown",
   "id": "37cf8628-198d-4fbf-8b93-aa17945f4cca",
   "metadata": {},
   "source": [
    "# 真空态\n",
    "这么来看的话，basis(M,0)就是真空态，但是为什么在计算能量的时候，就是对不上了呢？<p>现在感觉应该不是充电时间的问题，到底是哪里出了问题了呢？充电时间的话，无论是大还是小，最终的结果都没有影响"
   ]
  },
  {
   "cell_type": "code",
   "execution_count": 10,
   "id": "8b55234f-fe4f-48fc-bb64-efb9d01e7823",
   "metadata": {},
   "outputs": [
    {
     "ename": "TypeError",
     "evalue": "operand 'Qobj' does not support ufuncs (__array_ufunc__=None)",
     "output_type": "error",
     "traceback": [
      "\u001b[1;31m---------------------------------------------------------------------------\u001b[0m",
      "\u001b[1;31mTypeError\u001b[0m                                 Traceback (most recent call last)",
      "Cell \u001b[1;32mIn[10], line 5\u001b[0m\n\u001b[0;32m      3\u001b[0m a_dag \u001b[38;5;241m=\u001b[39m a\u001b[38;5;241m.\u001b[39mdag()\n\u001b[0;32m      4\u001b[0m vac \u001b[38;5;241m=\u001b[39m basis(N,\u001b[38;5;241m0\u001b[39m)\n\u001b[1;32m----> 5\u001b[0m s \u001b[38;5;241m=\u001b[39m \u001b[43mnp\u001b[49m\u001b[38;5;241;43m.\u001b[39;49m\u001b[43mexp\u001b[49m\u001b[43m(\u001b[49m\u001b[43m(\u001b[49m\u001b[43mz\u001b[49m\u001b[38;5;241;43m*\u001b[39;49m\u001b[43ma\u001b[49m\u001b[38;5;241;43m*\u001b[39;49m\u001b[38;5;241;43m*\u001b[39;49m\u001b[38;5;241;43m2\u001b[39;49m\u001b[38;5;241;43m-\u001b[39;49m\u001b[43mnp\u001b[49m\u001b[38;5;241;43m.\u001b[39;49m\u001b[43mconj\u001b[49m\u001b[43m(\u001b[49m\u001b[43mz\u001b[49m\u001b[43m)\u001b[49m\u001b[38;5;241;43m*\u001b[39;49m\u001b[43ma_dag\u001b[49m\u001b[38;5;241;43m*\u001b[39;49m\u001b[38;5;241;43m*\u001b[39;49m\u001b[38;5;241;43m2\u001b[39;49m\u001b[43m)\u001b[49m\u001b[38;5;241;43m/\u001b[39;49m\u001b[38;5;241;43m2\u001b[39;49m\u001b[43m)\u001b[49m\n\u001b[0;32m      6\u001b[0m psi \u001b[38;5;241m=\u001b[39m s\u001b[38;5;241m*\u001b[39mvac\n",
      "\u001b[1;31mTypeError\u001b[0m: operand 'Qobj' does not support ufuncs (__array_ufunc__=None)"
     ]
    }
   ],
   "source": [
    "N = 5\n",
    "z = np.arcsinh(np.sqrt(N))\n",
    "a_dag = a.dag()\n",
    "vac = basis(N,0)\n",
    "s = np.exp((z*a*a-np.conj(z)*a_dag*a_dag)/2)\n",
    "psi = s*vac"
   ]
  }
 ],
 "metadata": {
  "kernelspec": {
   "display_name": "Python 3 (ipykernel)",
   "language": "python",
   "name": "python3"
  },
  "language_info": {
   "codemirror_mode": {
    "name": "ipython",
    "version": 3
   },
   "file_extension": ".py",
   "mimetype": "text/x-python",
   "name": "python",
   "nbconvert_exporter": "python",
   "pygments_lexer": "ipython3",
   "version": "3.10.11"
  }
 },
 "nbformat": 4,
 "nbformat_minor": 5
}
